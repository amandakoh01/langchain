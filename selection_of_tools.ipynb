{
 "cells": [
  {
   "cell_type": "markdown",
   "id": "fada050d-c837-4ad5-bd32-4ac68931c5b9",
   "metadata": {},
   "source": [
    "## Introduction\n",
    "\n",
    "Tests LangChain with multiple tools and different models (e.g. OpenAI - paid; Vicuna/Falcon - local, free).\n",
    "\n",
    "Selected outputs recorded here: https://amandakoh.notion.site/testing-7e0672230e9942f39618824120bf8aa2?pvs=4"
   ]
  },
  {
   "cell_type": "code",
   "execution_count": null,
   "id": "9d17502c-2bc7-4bf2-a3e2-8d99c60aa3d2",
   "metadata": {},
   "outputs": [],
   "source": [
    "import tqdm\n",
    "\n",
    "from langchain import HuggingFacePipeline, PromptTemplate, LLMChain\n",
    "from transformers import LlamaTokenizer, LlamaForCausalLM, GenerationConfig, pipeline, AutoTokenizer, AutoConfig\n",
    "from langchain.chat_models import ChatOpenAI\n",
    "from langchain.agents import initialize_agent, Tool\n",
    "from langchain.agents import AgentType\n",
    "from langchain.agents.react.base import DocstoreExplorer\n",
    "from langchain.agents import load_tools\n",
    "import torch\n",
    "import os"
   ]
  },
  {
   "cell_type": "markdown",
   "id": "5f18560c-9c4c-495e-8690-348e41803005",
   "metadata": {},
   "source": [
    "# Load models"
   ]
  },
  {
   "cell_type": "markdown",
   "id": "1f504955-b655-4ec0-a2b9-edfb4f27fa5d",
   "metadata": {},
   "source": [
    "## Vicuna (local, free)"
   ]
  },
  {
   "cell_type": "code",
   "execution_count": null,
   "id": "6aba57c2-d87c-4431-81f1-7e3723d51f18",
   "metadata": {},
   "outputs": [],
   "source": [
    "os.environ[\"PYTORCH_CUDA_ALLOC_CONF\"] = \"max_split_size_mb:512\"\n",
    "# import model\n",
    "llama_tokenizer = LlamaTokenizer.from_pretrained(\"LLMModels/vicuna/13B\")\n",
    "llama_model = LlamaForCausalLM.from_pretrained(\"LLMModels/vicuna/13B\", device_map=\"auto\")    \n",
    "\n",
    "# use model as a text-generation model in a pipeline\n",
    "pipe = pipeline(\n",
    "        \"text-generation\",\n",
    "        model=llama_model, \n",
    "        tokenizer=llama_tokenizer, \n",
    "        max_length=2000,\n",
    "        temperature=0.0,\n",
    "        top_p=0.95,\n",
    "        repetition_penalty=1.2\n",
    "    )"
   ]
  },
  {
   "cell_type": "code",
   "execution_count": null,
   "id": "60b36c8a-a42f-40d1-90e8-fa8ccc14c6f5",
   "metadata": {},
   "outputs": [],
   "source": [
    "# create LLM\n",
    "llm = HuggingFacePipeline(pipeline=pipe)"
   ]
  },
  {
   "cell_type": "markdown",
   "id": "5a21d3bf-4bd6-4477-a9cd-31fb152ac457",
   "metadata": {},
   "source": [
    "## Falcon (local, free)"
   ]
  },
  {
   "cell_type": "code",
   "execution_count": null,
   "id": "3f3aa049-3a50-4736-80ae-ad73418ad03f",
   "metadata": {},
   "outputs": [],
   "source": [
    "model = \"LLMModels/falcon/falcon-40b-instruct\"\n",
    "\n",
    "tokenizer = AutoTokenizer.from_pretrained(model)\n",
    "pipeline = pipeline(\n",
    "    \"text-generation\",\n",
    "    model=model,\n",
    "    tokenizer=tokenizer,\n",
    "    torch_dtype=torch.bfloat16,\n",
    "    trust_remote_code=True,\n",
    "    device_map=\"auto\",\n",
    "    eos_token_id=tokenizer.eos_token_id,\n",
    "    pad_token_id=tokenizer.eos_token_id,\n",
    "    max_new_tokens=100,\n",
    ")"
   ]
  },
  {
   "cell_type": "code",
   "execution_count": null,
   "id": "9467cc53-15b2-4cd3-8b96-d54e7b972fe6",
   "metadata": {},
   "outputs": [],
   "source": [
    "# create LLM\n",
    "llm = HuggingFacePipeline(pipeline = pipeline, \n",
    "                          model_kwargs = {'temperature':0.5})"
   ]
  },
  {
   "cell_type": "markdown",
   "id": "c4b899a3-4095-40bb-b01a-250081712a3f",
   "metadata": {},
   "source": [
    "## OpenAI (API, paid)"
   ]
  },
  {
   "cell_type": "code",
   "execution_count": null,
   "id": "490c5645-8966-4bcb-b649-d24bea9c6195",
   "metadata": {},
   "outputs": [],
   "source": [
    "# os.environ[\"OPENAI_API_KEY\"] = ADD API KEY!!!\n",
    "\n",
    "llm = ChatOpenAI(temperature=0, model_name='gpt-3.5-turbo', max_retries=1)"
   ]
  },
  {
   "cell_type": "markdown",
   "id": "9c1e2a87-a6c1-4842-9445-7e331fc9d1dc",
   "metadata": {},
   "source": [
    "# Random questions"
   ]
  },
  {
   "cell_type": "code",
   "execution_count": null,
   "id": "6b259542-f207-4417-b87b-b400efcb885b",
   "metadata": {},
   "outputs": [],
   "source": [
    "questions = [\n",
    "#             \"what is a group of crows called?\",\n",
    "#              \"Alice has a parrot. What animal is Alice's pet?\",\n",
    "             \"what is the meaning of life?\",\n",
    "\n",
    "#             \"Describe a cat.\",\n",
    "            #  \"The expected response for a highly intelligent chatbot to 'Describe a cat.' is '\"\n",
    "\n",
    "#             \"what is the capital of france?\",\n",
    "            # \"The answer to the question \\\"What is the capital of France?\\\" is \\\"\",\n",
    "            # \"User: What is the capital of France? \\n Bot: \",\n",
    "            # \"User: Who was the president of US in 1960? \\n Bot: \"\n",
    "]\n",
    "\n",
    "for query in questions:\n",
    "    print(\"Query:\", query)\n",
    "    print(\"Ans:\",llm(query))\n",
    "    print()"
   ]
  },
  {
   "cell_type": "markdown",
   "id": "eb5c7c05-52c1-4b03-b2f1-244f74b9a60f",
   "metadata": {},
   "source": [
    "# Tools"
   ]
  },
  {
   "cell_type": "markdown",
   "id": "6eebbdf4-4b7b-4972-aafe-48e50725a8e6",
   "metadata": {},
   "source": [
    "## Multiplier tool"
   ]
  },
  {
   "cell_type": "code",
   "execution_count": null,
   "id": "5feb4c60-d355-4902-970e-060964695aba",
   "metadata": {},
   "outputs": [],
   "source": [
    "def multiplier(string):\n",
    "    a, b = string.split(\",\")\n",
    "    return int(a) * int(b)"
   ]
  },
  {
   "cell_type": "code",
   "execution_count": null,
   "id": "c7e7ec7f-7bc9-406b-af1a-4779df4faca4",
   "metadata": {},
   "outputs": [],
   "source": [
    "multiplierPrompt = \"\"\"Example:\n",
    "\n",
    "[begin]\n",
    "\n",
    "Question: What is 5 times 8?\n",
    "Thought: I must use the Multiplier tool to calculate 5 times 8\n",
    "Action: Multiplier\n",
    "Action Input: 5,8\n",
    "Observation: 40\n",
    "\n",
    "Thought: I now know the answer\n",
    "Final Answer: 40\n",
    "\n",
    "[end]\n",
    "\n",
    "\"\"\""
   ]
  },
  {
   "cell_type": "markdown",
   "id": "d2c40251-d964-4fc9-883d-caa04210fcb7",
   "metadata": {},
   "source": [
    "## Defense info tool"
   ]
  },
  {
   "cell_type": "code",
   "execution_count": null,
   "id": "1a810de0-212d-410f-961c-667bc4ca6574",
   "metadata": {},
   "outputs": [],
   "source": [
    "def defenseInformation(string):\n",
    "    string = string.lower()\n",
    "    if string == \"army\":\n",
    "        return \"\"\"\"The Singapore Army is the land service branch of the Singapore Armed Forces (SAF). The largest of the four branches of the SAF, the Singapore Army traces its origins to the 1st Battalion, Singapore Infantry Regiment (1 SIR), which was formed in 1957, when Singapore was still under British colonial rule. After Singapore's independence on 9 August 1965, the Singapore Army Bill was passed in Parliament on 23 December 1965, and National Service (NS) was subsequently introduced in 1967. Mostly made up of conscripts, the Singapore Army can mobilise all operationally-ready military reservists in the event of war or national exigencies.\"\"\"\n",
    "    if string == \"navy\":\n",
    "        return \"The Republic of Singapore Navy (RSN) is the naval service branch of the Singapore Armed Forces (SAF) responsible for defending the country against any sea-borne threats, and the protection of its sea lines of communications, that would compromise Singapore as a global trading hub. The RSN traces its origins to the Royal Navy when Singapore was still a Crown colony of the British Empire. After Singapore's independence from Malaysia in 1965, the service was formally established in 1967, and had undergone a substantial modernisation ever since—which led them into becoming the most powerful navy in Southeast Asia.\"\n",
    "    if string == \"air forces\":\n",
    "        return \"The Republic of Singapore Air Force (RSAF) is the aerial service branch of the Singapore Armed Forces (SAF) responsible for controlling and defending the airspace of the country, and providing air support to the Army and Navy. It was established in 1968 as the Singapore Air Defence Command (SADC) before renaming to its current name in 1975.[5] As the most powerful air force in Southeast Asia, the RSAF has undertaken a significant role in Singapore's military defence strategy since its formation.\"\n",
    "    if string == \"digital intelligence\":\n",
    "        return \"The Digital and Intelligence Service (DIS) is the digital service branch of the Singapore Armed Forces (SAF) responsible for providing military intelligence to the armed forces, building up the country's digital defence capabilities, and protecting the psychological defence of its military personnel. It was established on 28 October 2022, in response to the increased number of attacks by non-state actors, and the resulting damage from the Russian-Ukrainian cyberwarfare.\"\n",
    "    return \"Invalid input\""
   ]
  },
  {
   "cell_type": "code",
   "execution_count": null,
   "id": "5f3ffe61-8f38-4ae2-9967-b882b6d94db9",
   "metadata": {},
   "outputs": [],
   "source": [
    "defenseInformationPrompt = \"\"\"Example:\n",
    "\n",
    "[begin]\n",
    "\n",
    "Question: How many people does Singapore's army have?\n",
    "Thought: I must use the Defense Information tool to learn more about the army\n",
    "Action: Defense Information\n",
    "Action Input: army\n",
    "Observation: The Singapore Army is the land service branch of the Singapore Armed Forces, and has 45,000 troops.\n",
    "\n",
    "Thought: I now know the answer.\n",
    "Fianl Answer: 45,000\n",
    "\n",
    "[end]\n",
    "\n",
    "\"\"\""
   ]
  },
  {
   "cell_type": "markdown",
   "id": "7816a5cb-aede-4c41-962e-64d775f88e3d",
   "metadata": {},
   "source": [
    "## News tool"
   ]
  },
  {
   "cell_type": "code",
   "execution_count": null,
   "id": "8c3e5322-9f6d-43dc-be4c-b0c998950835",
   "metadata": {},
   "outputs": [],
   "source": [
    "def latestNews(topic):\n",
    "    # in reality this would actually search up a news article, but rn it's just a random fixed article\n",
    "    news = \"The Philippines is, for the first time, allowing tourism in areas it controls in the hotly contested Spratly Islands of the disputed South China Sea. The islands which the Philippines has laid claim on are in the northeastern part of the Spratly archipelago, an area locally known as the Kalayaan Island Group of the West Philippine Sea. The Spratly Islands consist of more than 100 small islands or reefs surrounded by rich fishing grounds and potentially by gas and oil deposits. They are claimed in their entirety by China, Taiwan, and Vietnam, while portions are claimed by Malaysia and the Philippines. The seven-day tour aboard a dive yacht is dubbed the Great Kalayaan or Freedom Expedition, and costs more than US$2,000 per person.\"\n",
    "    end = \"\\nPlease summarise this news for the user as a final answer.\"\n",
    "\n",
    "    return \"The latest news on \" + topic + \" is \" + news + end\n",
    "    "
   ]
  },
  {
   "cell_type": "markdown",
   "id": "6edcfb48-d446-4e97-8ad3-17318189a178",
   "metadata": {},
   "source": [
    "## Make an incident report"
   ]
  },
  {
   "cell_type": "code",
   "execution_count": null,
   "id": "e2b1b2e7-76b9-443d-a9ce-1e74640aedd3",
   "metadata": {},
   "outputs": [],
   "source": [
    "def makeIncidentReport(report):\n",
    "    # code that actually makes an incident report\n",
    "    return \"Incident report made successfully\""
   ]
  },
  {
   "cell_type": "markdown",
   "id": "8fc53187-c1d2-4f2b-8dfa-a72309a712ad",
   "metadata": {},
   "source": [
    "## Retrieve latest incident report"
   ]
  },
  {
   "cell_type": "code",
   "execution_count": null,
   "id": "ecb88c76-1048-4fce-a5bf-46b1b41a803a",
   "metadata": {},
   "outputs": [],
   "source": [
    "def retrieveIncidentReport(string):\n",
    "    return \"The last incident report was 'Two unauthorised men spotted in camp'\""
   ]
  },
  {
   "cell_type": "markdown",
   "id": "c384893c-3c83-4d96-a280-549fd578a7cc",
   "metadata": {},
   "source": [
    "## Find document"
   ]
  },
  {
   "cell_type": "code",
   "execution_count": null,
   "id": "dfed1858-06c0-4c4a-9724-8a474545ad13",
   "metadata": {},
   "outputs": [],
   "source": [
    "def searchForDocument(string):\n",
    "    return \"Document contents of {string}: The dominant sequence transduction models are based on complex recurrent or convolutional neural networks that include an encoder and a decoder. The best performing models also connect the encoder and decoder through an attention mechanism. We propose a new simple network architecture, the Transformer, based solely on attention mechanisms, dispensing with recurrence and convolutions entirely. Experiments on two machine translation tasks show these models to be superior in quality while being more parallelizable and requiring significantly less time to train. Our model achieves 28.4 BLEU on the WMT 2014 English- to-German translation task, improving over the existing best results, including ensembles, by over 2 BLEU. On the WMT 2014 English-to-French translation task, our model establishes a new single-model state-of-the-art BLEU score of 41.8 after training for 3.5 days on eight GPUs, a small fraction of the training costs of the best models from the literature. We show that the Transformer generalizes well to other tasks by applying it successfully to English constituency parsing both with large and limited training data.\""
   ]
  },
  {
   "cell_type": "markdown",
   "id": "61193f21-90ec-4ec5-9176-0d95edd81473",
   "metadata": {},
   "source": [
    "# Running"
   ]
  },
  {
   "cell_type": "code",
   "execution_count": null,
   "id": "c9e55143-d6e0-428c-91cb-f3e253e00ff1",
   "metadata": {},
   "outputs": [],
   "source": [
    "tools = [\n",
    "    Tool(\n",
    "        name = \"Latest News\",\n",
    "        func = latestNews,\n",
    "        description=\"useful for when you need to get the latest news on any specified topic. The input to this tool should be the topic or category of news that should be retrieved. For example, a topic could be the Russia-Ukraine war.\",\n",
    "    ),\n",
    "    Tool(\n",
    "        name = \"Defense Information\",\n",
    "        func=defenseInformation,\n",
    "        description=\"useful for when you need to find background information about Singapore's defense force, including the army, navy, air force and the digital and intelligence service. The input to this tool should be one of [army, navy, air force, digital intelligence] depending on which branch you are interested in.\"\n",
    "    ),\n",
    "    Tool(\n",
    "        name = \"Multiplier\",\n",
    "        func=multiplier,\n",
    "        description=\"useful for when you need to multiply two numbers together. The input to this tool should be a comma separated list of numbers of length two, representing the two numbers you want to multiply together. For example, 1,2 would be the input if you wanted to multiply 1 by 2.\"\n",
    "    ),\n",
    "    Tool(\n",
    "        name = \"Make Incident Report\",\n",
    "        func=makeIncidentReport,\n",
    "        description=\"useful for when the user asks for an incident report to be made. The input to this tool is the string that the user inputs.\"\n",
    "    ),\n",
    "    Tool(\n",
    "        name = \"Retrieve Incident Report\",\n",
    "        func=retrieveIncidentReport,\n",
    "        description=\"only use when the specifically requests for the latest incident report. This tool does not require an input.\"\n",
    "    ),\n",
    "    Tool(\n",
    "        name = \"Search for Document\",\n",
    "        func=searchForDocument,\n",
    "        description=\"useful for searching for a specific document such as a PDF or text file. The input to this tool is the search query.\"\n",
    "    ),\n",
    "]"
   ]
  },
  {
   "cell_type": "markdown",
   "id": "6f37030c-9f59-484d-9dc5-35aafc1f3cad",
   "metadata": {},
   "source": [
    "## Initialize agent (can modify prompt)"
   ]
  },
  {
   "cell_type": "code",
   "execution_count": null,
   "id": "82db166c-2e85-4c27-9978-6aaecb63134a",
   "metadata": {},
   "outputs": [],
   "source": [
    "vicunaSuffix = \"\"\"Remember, if you don't need a tool to answer the question, end with 'Final Answer: '. Always start with a thought before taking any action. Now begin!\n",
    "\n",
    "Question: {input}\n",
    "Thought: {agent_scratchpad}\n",
    "\"\"\"\n",
    "# vicunaPrompt = \"Here are some examples:\\n\\n\" + multiplierPrompt + defenseInformationPrompt + vicunaSuffix\n",
    "\n",
    "suffix = \"\"\"Only use a tool if it is relevant to the question and only the tools available. If you don't need a tool, write 'Final Answer: '. 'None' is not a valid tool. Now begin!\n",
    "\n",
    "Question: {input}\n",
    "Thought: {agent_scratchpad}\n",
    "\"\"\"\n",
    "\n",
    "# For vicuna agent might need to remind it to use action input (because it tends to write input action instead)\n",
    "\n",
    "agent = initialize_agent(tools, \n",
    "                         llm, \n",
    "                         agent=AgentType.ZERO_SHOT_REACT_DESCRIPTION, \n",
    "                         verbose=True,\n",
    "                         handle_parsing_errors=True,\n",
    "                         agent_kwargs = {\n",
    "                             'suffix': suffix\n",
    "                         })"
   ]
  },
  {
   "cell_type": "code",
   "execution_count": null,
   "id": "d60af728-5294-4e96-a210-d5e993fbe639",
   "metadata": {},
   "outputs": [],
   "source": [
    "# Print out template of the agent to check\n",
    "print(agent.agent.llm_chain.prompt.template)"
   ]
  },
  {
   "cell_type": "markdown",
   "id": "ded7ccb6-d128-4aba-bd4a-f8b649cd16ed",
   "metadata": {},
   "source": [
    "## Ask question"
   ]
  },
  {
   "cell_type": "code",
   "execution_count": null,
   "id": "102521c8-1864-4df2-afd0-4a22d8069c1b",
   "metadata": {},
   "outputs": [],
   "source": [
    "question = \"find the latest news in the south china sea, and make an incident report about that\"\n",
    "print(agent.run(question))"
   ]
  }
 ],
 "metadata": {
  "kernelspec": {
   "display_name": "venv_vicuna",
   "language": "python",
   "name": "venv_vicuna"
  },
  "language_info": {
   "codemirror_mode": {
    "name": "ipython",
    "version": 3
   },
   "file_extension": ".py",
   "mimetype": "text/x-python",
   "name": "python",
   "nbconvert_exporter": "python",
   "pygments_lexer": "ipython3",
   "version": "3.8.8"
  }
 },
 "nbformat": 4,
 "nbformat_minor": 5
}
