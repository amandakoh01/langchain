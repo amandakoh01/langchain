{
 "cells": [
  {
   "cell_type": "code",
   "execution_count": null,
   "id": "73b56fba-a599-4fce-bc1d-4940c813095c",
   "metadata": {},
   "outputs": [],
   "source": [
    "from langchain.agents import ZeroShotAgent, Tool, AgentExecutor\n",
    "from langchain.memory import ConversationBufferMemory\n",
    "from langchain import LLMChain\n",
    "from langchain.chat_models import ChatOpenAI\n",
    "import os"
   ]
  },
  {
   "cell_type": "code",
   "execution_count": null,
   "id": "e0b46f7e-cfcf-4c2c-b012-eb763bc33bd8",
   "metadata": {},
   "outputs": [],
   "source": [
    "def latestNews(topic):\n",
    "    # in reality this would actually search up a news article, but rn it's just a random fixed article\n",
    "    news = \"China is building its first port dedicated to deep-sea research in the South China Sea as the country seeks to cement its claims over disputed waters in the area. The project broke ground last week in the resort city of Sanya on the island province of Hainan. The China State Shipbuilding Corporation, a state-owned ship-maker, said it would serve the interests of national defence as well as supporting deep-sea experiments. The port will be the core of the research base, docking experimental vessels and ensuring “highly efficient operations”, the state-owned company said.\"\n",
    "    end = \"\\nPlease summarise this news for the user as a final answer.\"\n",
    "\n",
    "    return \"The latest news on \" + topic + \" is \" + news + end\n",
    "\n",
    "def defenseInformation(string):\n",
    "    string = string.lower()\n",
    "    if string == \"army\":\n",
    "        return \"\"\"\"The Singapore Army is the land service branch of the Singapore Armed Forces (SAF). The largest of the four branches of the SAF, the Singapore Army traces its origins to the 1st Battalion, Singapore Infantry Regiment (1 SIR), which was formed in 1957, when Singapore was still under British colonial rule. After Singapore's independence on 9 August 1965, the Singapore Army Bill was passed in Parliament on 23 December 1965, and National Service (NS) was subsequently introduced in 1967. Mostly made up of conscripts, the Singapore Army can mobilise all operationally-ready military reservists in the event of war or national exigencies.\"\"\"\n",
    "    if string == \"navy\":\n",
    "        return \"The Republic of Singapore Navy (RSN) is the naval service branch of the Singapore Armed Forces (SAF) responsible for defending the country against any sea-borne threats, and the protection of its sea lines of communications, that would compromise Singapore as a global trading hub. The RSN traces its origins to the Royal Navy when Singapore was still a Crown colony of the British Empire. After Singapore's independence from Malaysia in 1965, the service was formally established in 1967, and had undergone a substantial modernisation ever since—which led them into becoming the most powerful navy in Southeast Asia.\"\n",
    "    if string == \"air forces\":\n",
    "        return \"The Republic of Singapore Air Force (RSAF) is the aerial service branch of the Singapore Armed Forces (SAF) responsible for controlling and defending the airspace of the country, and providing air support to the Army and Navy. It was established in 1968 as the Singapore Air Defence Command (SADC) before renaming to its current name in 1975.[5] As the most powerful air force in Southeast Asia, the RSAF has undertaken a significant role in Singapore's military defence strategy since its formation.\"\n",
    "    if string == \"digital intelligence\":\n",
    "        return \"The Digital and Intelligence Service (DIS) is the digital service branch of the Singapore Armed Forces (SAF) responsible for providing military intelligence to the armed forces, building up the country's digital defence capabilities, and protecting the psychological defence of its military personnel. It was established on 28 October 2022, in response to the increased number of attacks by non-state actors, and the resulting damage from the Russian-Ukrainian cyberwarfare.\"\n",
    "    return \"Invalid input\"\n",
    "\n",
    "def makeIncidentReport(report):\n",
    "    # code that actually makes an incident report\n",
    "    return \"Incident report made successfully\""
   ]
  },
  {
   "cell_type": "code",
   "execution_count": null,
   "id": "449347cc-c69b-4622-87b5-dfb025ad4269",
   "metadata": {},
   "outputs": [],
   "source": [
    "tools = [\n",
    "    Tool(\n",
    "        name = \"Latest News\",\n",
    "        func = latestNews,\n",
    "        description=\"useful for when you need to get the latest news on any specified topic. The input to this tool should be the topic or category of news that should be retrieved. For example, a topic could be the Russia-Ukraine war.\",\n",
    "    ),\n",
    "    Tool(\n",
    "        name = \"Defense Information\",\n",
    "        func=defenseInformation,\n",
    "        description=\"useful for when you need to find background information about Singapore's defense force, including the army, navy, air force and the digital and intelligence service. The input to this tool should be one of [army, navy, air force, digital intelligence] depending on which branch you are interested in.\"\n",
    "    ),\n",
    "        Tool(\n",
    "        name = \"Make Incident Report\",\n",
    "        func=makeIncidentReport,\n",
    "        description=\"useful for when the user asks for an incident report to be made. The input to this tool is the string that the user inputs.\"\n",
    "    ),\n",
    "]\n"
   ]
  },
  {
   "cell_type": "code",
   "execution_count": null,
   "id": "bb727dcc-0e2d-41a1-8e98-fe76de5a34f4",
   "metadata": {},
   "outputs": [],
   "source": [
    "prefix = \"\"\"Have a conversation with a human, answering the following questions as best you can. You have access to the following tools:\"\"\"\n",
    "suffix = \"\"\"Try using the chat history before using a tool, if possible. Remember to end with 'Final Answer: '. Begin!\n",
    "\n",
    "{chat_history}\n",
    "Question: {input}\n",
    "{agent_scratchpad}\"\"\"\n",
    "\n",
    "prompt = ZeroShotAgent.create_prompt(\n",
    "    tools,\n",
    "    prefix=prefix,\n",
    "    suffix=suffix,\n",
    "    input_variables=[\"input\", \"chat_history\", \"agent_scratchpad\"],\n",
    ")\n",
    "memory = ConversationBufferMemory(memory_key=\"chat_history\")"
   ]
  },
  {
   "cell_type": "code",
   "execution_count": null,
   "id": "7b017cda-f20a-4223-92bd-3f8ab65c0f06",
   "metadata": {},
   "outputs": [],
   "source": [
    "# os.environ[\"OPENAI_API_KEY\"] = ADD API KEY!!!\n",
    "\n",
    "llm = ChatOpenAI(temperature=0, model_name='gpt-3.5-turbo', max_retries=1)"
   ]
  },
  {
   "cell_type": "code",
   "execution_count": null,
   "id": "f1af9313-397d-4181-8b39-f006cc37be22",
   "metadata": {},
   "outputs": [],
   "source": [
    "# Construct LLMChain with memory and agent\n",
    "llm_chain = LLMChain(llm=llm, prompt=prompt)\n",
    "\n",
    "agent = ZeroShotAgent(llm_chain=llm_chain, tools=tools, verbose=True, handle_parsing_errors=True,)\n",
    "\n",
    "agent_chain = AgentExecutor.from_agent_and_tools(\n",
    "    agent=agent, tools=tools, verbose=True, memory=memory\n",
    ")"
   ]
  },
  {
   "cell_type": "code",
   "execution_count": null,
   "id": "c9334660-4123-4f8e-b151-654b38689526",
   "metadata": {},
   "outputs": [],
   "source": [
    "print(agent.llm_chain.prompt.template)"
   ]
  },
  {
   "cell_type": "markdown",
   "id": "d216a4a6-3fa0-488e-ae2e-2c06b9a53e94",
   "metadata": {},
   "source": [
    "## Running"
   ]
  },
  {
   "cell_type": "code",
   "execution_count": null,
   "id": "2cec6ce8-b698-4d4d-a648-0ca678f69622",
   "metadata": {},
   "outputs": [],
   "source": [
    "agent_chain.run(input = \"how old is singapore's army in 2023?\")"
   ]
  },
  {
   "cell_type": "code",
   "execution_count": null,
   "id": "e33fcddd-19c5-4133-bec2-ea2659880260",
   "metadata": {},
   "outputs": [],
   "source": [
    "agent_chain.run(input = \"what about its navy?\")"
   ]
  },
  {
   "cell_type": "markdown",
   "id": "2aeb0963-e144-47e4-9ecc-78bad048e210",
   "metadata": {},
   "source": [
    "## Manipulating memory for testing purposes"
   ]
  },
  {
   "cell_type": "code",
   "execution_count": null,
   "id": "69dea52b-f384-4771-a3b6-688a1f75f5ab",
   "metadata": {},
   "outputs": [],
   "source": [
    "memory.load_memory_variables({})"
   ]
  },
  {
   "cell_type": "code",
   "execution_count": null,
   "id": "de94ae58-faac-45b6-9528-5810f4970b6e",
   "metadata": {},
   "outputs": [],
   "source": [
    "memory.save_context({\"input\": \"what is going on in the South China Sea?\"}, {\"output\": \"The latest news on South China Sea is China is building its first port dedicated to deep-sea research in the South China Sea as the country seeks to cement its claims over disputed waters in the area. The project broke ground last week in the resort city of Sanya on the island province of Hainan. The China State Shipbuilding Corporation, a state-owned ship-maker, said it would serve the interests of national defence as well as supporting deep-sea experiments. The port will be the core of the research base, docking experimental vessels and ensuring “highly efficient operations”, the state-owned company said.\"})"
   ]
  },
  {
   "cell_type": "code",
   "execution_count": null,
   "id": "bead40ab-12e2-4f55-8df3-3deefa2a374f",
   "metadata": {},
   "outputs": [],
   "source": [
    "memory.clear()"
   ]
  }
 ],
 "metadata": {
  "kernelspec": {
   "display_name": "venv_vicuna",
   "language": "python",
   "name": "venv_vicuna"
  },
  "language_info": {
   "codemirror_mode": {
    "name": "ipython",
    "version": 3
   },
   "file_extension": ".py",
   "mimetype": "text/x-python",
   "name": "python",
   "nbconvert_exporter": "python",
   "pygments_lexer": "ipython3",
   "version": "3.8.8"
  }
 },
 "nbformat": 4,
 "nbformat_minor": 5
}
